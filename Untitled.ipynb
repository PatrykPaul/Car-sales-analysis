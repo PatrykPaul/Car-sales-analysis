{
 "cells": [
  {
   "cell_type": "markdown",
   "id": "4ae5b54d",
   "metadata": {},
   "source": [
    "# Analysis of customer preferences in car purchases"
   ]
  },
  {
   "cell_type": "markdown",
   "id": "e37beced",
   "metadata": {},
   "source": [
    "The aim of the project Analysis of customer preferences in car purchases is to understand the key factors that influence customers' purchasing decisions when choosing cars. The analysis includes examining the popularity of various brands, models, colors and body types, as well as examining how gender, income and region affect purchasing preferences. The results of this analysis can help dealers and manufacturers better match their offerings to market needs and target marketing strategies more effectively."
   ]
  },
  {
   "cell_type": "code",
   "execution_count": null,
   "id": "6e1ba430",
   "metadata": {},
   "outputs": [],
   "source": []
  },
  {
   "cell_type": "markdown",
   "id": "25e66690",
   "metadata": {},
   "source": [
    "Pytania badawcze na podstawie dostępnych danych:\n",
    "\n",
    "1 Jakie marki i modele samochodów są najczęściej kupowane?\n",
    "-Które marki (kolumna Company) i modele (kolumna Model) są najczęściej wybierane przez klientów?\n",
    "-Czy istnieją różnice w popularności marek w zależności od regionu sprzedaży (Dealer_Region)?\n",
    "\n",
    "2 Jakie preferencje kolorystyczne mają klienci przy wyborze samochodów?\n",
    "-Jakie kolory samochodów (kolumna Color) cieszą się największą popularnością?\n",
    "-Czy kolory samochodów różnią się w zależności od regionu lub modelu samochodu?\n",
    "\n",
    "3 Jakie typy nadwozia są najczęściej wybierane?\n",
    "-Które typy nadwozia (kolumna Body Style) są preferowane przez klientów?\n",
    "-Czy wybory dotyczące typu nadwozia różnią się w zależności od dochodów klientów (kolumna Annual Income)?\n",
    "\n",
    "4 Czy płeć klienta wpływa na wybory zakupowe?\n",
    "-Jakie modele, marki i kolory samochodów są popularne wśród mężczyzn, a jakie wśród kobiet (kolumna Gender)?\n",
    "-Czy istnieje różnica w wyborze typu nadwozia w zależności od płci?\n",
    "\n",
    "5 Jak dochód klienta wpływa na wybór samochodu?\n",
    "-Czy istnieje korelacja między dochodami (kolumna Annual Income) a ceną samochodu (kolumna Price ($))?\n",
    "-Jak dochody klientów wpływają na wybór marki, modelu, koloru lub typu nadwozia?\n",
    "\n",
    "6 Jak region sprzedaży wpływa na wybory klientów?\n",
    "-Czy klienci z różnych regionów (Dealer_Region) wybierają inne marki, modele, kolory lub typy nadwozia?\n",
    "-Jak różni się średnia cena samochodów sprzedawanych w poszczególnych regionach?\n",
    "\n",
    "7 Jakie preferencje zakupowe mają klienci w zależności od rodzaju silnika i skrzyni biegów?\n",
    "-Które typy silników (kolumna Engine) i skrzyń biegów (kolumna Transmission) są najczęściej wybierane?\n",
    "-Czy istnieją różnice w wyborze rodzaju silnika i skrzyni biegów w zależności od płci, dochodu lub regionu?\n",
    "\n",
    "8 Jakie czynniki wpływają na cenę samochodu?\n",
    "-Czy cena samochodu (kolumna Price ($)) zależy od marki, modelu, typu nadwozia, koloru lub regionu?\n",
    "-Jakie czynniki mają największy wpływ na różnice w cenach?"
   ]
  },
  {
   "cell_type": "code",
   "execution_count": 2,
   "id": "6c146ed4",
   "metadata": {},
   "outputs": [],
   "source": [
    "import pandas as pd "
   ]
  },
  {
   "cell_type": "code",
   "execution_count": 3,
   "id": "166342a0",
   "metadata": {},
   "outputs": [],
   "source": [
    "data = pd.read_csv(\"Car Sales.xlsx - car_data.csv\")"
   ]
  },
  {
   "cell_type": "code",
   "execution_count": 4,
   "id": "7ee69a02",
   "metadata": {},
   "outputs": [
    {
     "data": {
      "text/html": [
       "<div>\n",
       "<style scoped>\n",
       "    .dataframe tbody tr th:only-of-type {\n",
       "        vertical-align: middle;\n",
       "    }\n",
       "\n",
       "    .dataframe tbody tr th {\n",
       "        vertical-align: top;\n",
       "    }\n",
       "\n",
       "    .dataframe thead th {\n",
       "        text-align: right;\n",
       "    }\n",
       "</style>\n",
       "<table border=\"1\" class=\"dataframe\">\n",
       "  <thead>\n",
       "    <tr style=\"text-align: right;\">\n",
       "      <th></th>\n",
       "      <th>Car_id</th>\n",
       "      <th>Date</th>\n",
       "      <th>Customer Name</th>\n",
       "      <th>Gender</th>\n",
       "      <th>Annual Income</th>\n",
       "      <th>Dealer_Name</th>\n",
       "      <th>Company</th>\n",
       "      <th>Model</th>\n",
       "      <th>Engine</th>\n",
       "      <th>Transmission</th>\n",
       "      <th>Color</th>\n",
       "      <th>Price ($)</th>\n",
       "      <th>Dealer_No</th>\n",
       "      <th>Body Style</th>\n",
       "      <th>Phone</th>\n",
       "      <th>Dealer_Region</th>\n",
       "    </tr>\n",
       "  </thead>\n",
       "  <tbody>\n",
       "    <tr>\n",
       "      <th>0</th>\n",
       "      <td>C_CND_000001</td>\n",
       "      <td>1/2/2022</td>\n",
       "      <td>Geraldine</td>\n",
       "      <td>Male</td>\n",
       "      <td>13500</td>\n",
       "      <td>Buddy Storbeck's Diesel Service Inc</td>\n",
       "      <td>Ford</td>\n",
       "      <td>Expedition</td>\n",
       "      <td>DoubleÂ Overhead Camshaft</td>\n",
       "      <td>Auto</td>\n",
       "      <td>Black</td>\n",
       "      <td>26000</td>\n",
       "      <td>06457-3834</td>\n",
       "      <td>SUV</td>\n",
       "      <td>8264678</td>\n",
       "      <td>Middletown</td>\n",
       "    </tr>\n",
       "    <tr>\n",
       "      <th>1</th>\n",
       "      <td>C_CND_000002</td>\n",
       "      <td>1/2/2022</td>\n",
       "      <td>Gia</td>\n",
       "      <td>Male</td>\n",
       "      <td>1480000</td>\n",
       "      <td>C &amp; M Motors Inc</td>\n",
       "      <td>Dodge</td>\n",
       "      <td>Durango</td>\n",
       "      <td>DoubleÂ Overhead Camshaft</td>\n",
       "      <td>Auto</td>\n",
       "      <td>Black</td>\n",
       "      <td>19000</td>\n",
       "      <td>60504-7114</td>\n",
       "      <td>SUV</td>\n",
       "      <td>6848189</td>\n",
       "      <td>Aurora</td>\n",
       "    </tr>\n",
       "    <tr>\n",
       "      <th>2</th>\n",
       "      <td>C_CND_000003</td>\n",
       "      <td>1/2/2022</td>\n",
       "      <td>Gianna</td>\n",
       "      <td>Male</td>\n",
       "      <td>1035000</td>\n",
       "      <td>Capitol KIA</td>\n",
       "      <td>Cadillac</td>\n",
       "      <td>Eldorado</td>\n",
       "      <td>Overhead Camshaft</td>\n",
       "      <td>Manual</td>\n",
       "      <td>Red</td>\n",
       "      <td>31500</td>\n",
       "      <td>38701-8047</td>\n",
       "      <td>Passenger</td>\n",
       "      <td>7298798</td>\n",
       "      <td>Greenville</td>\n",
       "    </tr>\n",
       "    <tr>\n",
       "      <th>3</th>\n",
       "      <td>C_CND_000004</td>\n",
       "      <td>1/2/2022</td>\n",
       "      <td>Giselle</td>\n",
       "      <td>Male</td>\n",
       "      <td>13500</td>\n",
       "      <td>Chrysler of Tri-Cities</td>\n",
       "      <td>Toyota</td>\n",
       "      <td>Celica</td>\n",
       "      <td>Overhead Camshaft</td>\n",
       "      <td>Manual</td>\n",
       "      <td>Pale White</td>\n",
       "      <td>14000</td>\n",
       "      <td>99301-3882</td>\n",
       "      <td>SUV</td>\n",
       "      <td>6257557</td>\n",
       "      <td>Pasco</td>\n",
       "    </tr>\n",
       "    <tr>\n",
       "      <th>4</th>\n",
       "      <td>C_CND_000005</td>\n",
       "      <td>1/2/2022</td>\n",
       "      <td>Grace</td>\n",
       "      <td>Male</td>\n",
       "      <td>1465000</td>\n",
       "      <td>Chrysler Plymouth</td>\n",
       "      <td>Acura</td>\n",
       "      <td>TL</td>\n",
       "      <td>DoubleÂ Overhead Camshaft</td>\n",
       "      <td>Auto</td>\n",
       "      <td>Red</td>\n",
       "      <td>24500</td>\n",
       "      <td>53546-9427</td>\n",
       "      <td>Hatchback</td>\n",
       "      <td>7081483</td>\n",
       "      <td>Janesville</td>\n",
       "    </tr>\n",
       "  </tbody>\n",
       "</table>\n",
       "</div>"
      ],
      "text/plain": [
       "         Car_id      Date Customer Name Gender  Annual Income  \\\n",
       "0  C_CND_000001  1/2/2022     Geraldine   Male          13500   \n",
       "1  C_CND_000002  1/2/2022           Gia   Male        1480000   \n",
       "2  C_CND_000003  1/2/2022        Gianna   Male        1035000   \n",
       "3  C_CND_000004  1/2/2022       Giselle   Male          13500   \n",
       "4  C_CND_000005  1/2/2022         Grace   Male        1465000   \n",
       "\n",
       "                           Dealer_Name   Company       Model  \\\n",
       "0  Buddy Storbeck's Diesel Service Inc      Ford  Expedition   \n",
       "1                     C & M Motors Inc     Dodge     Durango   \n",
       "2                          Capitol KIA  Cadillac    Eldorado   \n",
       "3               Chrysler of Tri-Cities    Toyota      Celica   \n",
       "4                    Chrysler Plymouth     Acura          TL   \n",
       "\n",
       "                      Engine Transmission       Color  Price ($)  Dealer_No   \\\n",
       "0  DoubleÂ Overhead Camshaft         Auto       Black      26000  06457-3834   \n",
       "1  DoubleÂ Overhead Camshaft         Auto       Black      19000  60504-7114   \n",
       "2          Overhead Camshaft       Manual         Red      31500  38701-8047   \n",
       "3          Overhead Camshaft       Manual  Pale White      14000  99301-3882   \n",
       "4  DoubleÂ Overhead Camshaft         Auto         Red      24500  53546-9427   \n",
       "\n",
       "  Body Style    Phone Dealer_Region  \n",
       "0        SUV  8264678    Middletown  \n",
       "1        SUV  6848189        Aurora  \n",
       "2  Passenger  7298798    Greenville  \n",
       "3        SUV  6257557         Pasco  \n",
       "4  Hatchback  7081483    Janesville  "
      ]
     },
     "execution_count": 4,
     "metadata": {},
     "output_type": "execute_result"
    }
   ],
   "source": [
    "data.head()"
   ]
  },
  {
   "cell_type": "code",
   "execution_count": 5,
   "id": "aecd77f1",
   "metadata": {},
   "outputs": [
    {
     "name": "stdout",
     "output_type": "stream",
     "text": [
      "<class 'pandas.core.frame.DataFrame'>\n",
      "RangeIndex: 23906 entries, 0 to 23905\n",
      "Data columns (total 16 columns):\n",
      " #   Column         Non-Null Count  Dtype \n",
      "---  ------         --------------  ----- \n",
      " 0   Car_id         23906 non-null  object\n",
      " 1   Date           23906 non-null  object\n",
      " 2   Customer Name  23905 non-null  object\n",
      " 3   Gender         23906 non-null  object\n",
      " 4   Annual Income  23906 non-null  int64 \n",
      " 5   Dealer_Name    23906 non-null  object\n",
      " 6   Company        23906 non-null  object\n",
      " 7   Model          23906 non-null  object\n",
      " 8   Engine         23906 non-null  object\n",
      " 9   Transmission   23906 non-null  object\n",
      " 10  Color          23906 non-null  object\n",
      " 11  Price ($)      23906 non-null  int64 \n",
      " 12  Dealer_No      23906 non-null  object\n",
      " 13  Body Style     23906 non-null  object\n",
      " 14  Phone          23906 non-null  int64 \n",
      " 15  Dealer_Region  23906 non-null  object\n",
      "dtypes: int64(3), object(13)\n",
      "memory usage: 2.9+ MB\n"
     ]
    }
   ],
   "source": [
    "data.info()"
   ]
  },
  {
   "cell_type": "code",
   "execution_count": 6,
   "id": "8c263c48",
   "metadata": {},
   "outputs": [
    {
     "data": {
      "text/plain": [
       "Car_id           0\n",
       "Date             0\n",
       "Customer Name    1\n",
       "Gender           0\n",
       "Annual Income    0\n",
       "Dealer_Name      0\n",
       "Company          0\n",
       "Model            0\n",
       "Engine           0\n",
       "Transmission     0\n",
       "Color            0\n",
       "Price ($)        0\n",
       "Dealer_No        0\n",
       "Body Style       0\n",
       "Phone            0\n",
       "Dealer_Region    0\n",
       "dtype: int64"
      ]
     },
     "execution_count": 6,
     "metadata": {},
     "output_type": "execute_result"
    }
   ],
   "source": [
    "data.isna().sum()"
   ]
  },
  {
   "cell_type": "code",
   "execution_count": 7,
   "id": "7991ccf6",
   "metadata": {},
   "outputs": [
    {
     "name": "stdout",
     "output_type": "stream",
     "text": [
      "            Car_id       Date Customer Name Gender  Annual Income  \\\n",
      "7564  C_CND_007565  11/5/2022           NaN   Male         680000   \n",
      "\n",
      "           Dealer_Name Company       Model                     Engine  \\\n",
      "7564  Saab-Belle Dodge   Dodge  Ram Pickup  DoubleÂ Overhead Camshaft   \n",
      "\n",
      "     Transmission       Color  Price ($)  Dealer_No  Body Style    Phone  \\\n",
      "7564         Auto  Pale White      45000  60504-7114    Hardtop  7203103   \n",
      "\n",
      "     Dealer_Region  \n",
      "7564        Aurora  \n"
     ]
    }
   ],
   "source": [
    "missing_customer_name = data[data['Customer Name'].isna()]\n",
    "print(missing_customer_name)\n"
   ]
  },
  {
   "cell_type": "markdown",
   "id": "a3a106ce",
   "metadata": {},
   "source": [
    "# I don't need the customer's name for this analysis, so I will leave this row in the database."
   ]
  },
  {
   "cell_type": "code",
   "execution_count": 8,
   "id": "6f4d37fc",
   "metadata": {},
   "outputs": [
    {
     "name": "stdout",
     "output_type": "stream",
     "text": [
      "Car_id           object\n",
      "Date             object\n",
      "Customer Name    object\n",
      "Gender           object\n",
      "Annual Income     int64\n",
      "Dealer_Name      object\n",
      "Company          object\n",
      "Model            object\n",
      "Engine           object\n",
      "Transmission     object\n",
      "Color            object\n",
      "Price ($)         int64\n",
      "Dealer_No        object\n",
      "Body Style       object\n",
      "Phone             int64\n",
      "Dealer_Region    object\n",
      "dtype: object\n"
     ]
    }
   ],
   "source": [
    "print(data.dtypes)"
   ]
  },
  {
   "cell_type": "markdown",
   "id": "c80773c3",
   "metadata": {},
   "source": [
    "# First task"
   ]
  },
  {
   "cell_type": "code",
   "execution_count": 9,
   "id": "79050690",
   "metadata": {},
   "outputs": [
    {
     "name": "stdout",
     "output_type": "stream",
     "text": [
      "       Company  Count\n",
      "0    Chevrolet   1819\n",
      "1        Dodge   1671\n",
      "2         Ford   1614\n",
      "3   Volkswagen   1333\n",
      "4   Mercedes-B   1285\n",
      "5   Mitsubishi   1277\n",
      "6     Chrysler   1120\n",
      "7   Oldsmobile   1111\n",
      "8       Toyota   1110\n",
      "9       Nissan    886\n",
      "10     Mercury    874\n",
      "11       Lexus    802\n",
      "12     Pontiac    796\n",
      "13         BMW    790\n",
      "14       Volvo    789\n",
      "15       Honda    708\n",
      "16       Acura    689\n",
      "17    Cadillac    652\n",
      "18    Plymouth    617\n",
      "19      Saturn    586\n",
      "20     Lincoln    492\n",
      "21        Audi    468\n",
      "22       Buick    439\n",
      "23      Subaru    405\n",
      "24        Jeep    363\n",
      "25     Porsche    361\n",
      "26     Hyundai    264\n",
      "27        Saab    210\n",
      "28    Infiniti    195\n",
      "29      Jaguar    180\n"
     ]
    }
   ],
   "source": [
    "company_counts = data['Company'].value_counts().reset_index()\n",
    "company_counts.columns = ['Company', 'Count']\n",
    "print(company_counts)"
   ]
  },
  {
   "cell_type": "code",
   "execution_count": 11,
   "id": "94ec1672",
   "metadata": {},
   "outputs": [
    {
     "name": "stdout",
     "output_type": "stream",
     "text": [
      "     Company  Count\n",
      "0  Chevrolet   1819\n"
     ]
    }
   ],
   "source": [
    "max_company = company_counts.nlargest(1, 'Count')\n",
    "print(max_company)"
   ]
  },
  {
   "cell_type": "code",
   "execution_count": 15,
   "id": "4b41b6fd",
   "metadata": {},
   "outputs": [],
   "source": []
  },
  {
   "cell_type": "code",
   "execution_count": 16,
   "id": "2097f713",
   "metadata": {},
   "outputs": [],
   "source": []
  },
  {
   "cell_type": "code",
   "execution_count": 17,
   "id": "286e7600",
   "metadata": {},
   "outputs": [],
   "source": [
    "company_model_counts = data.groupby(['Company', 'Model']).size().reset_index(name='Model_Count')"
   ]
  },
  {
   "cell_type": "code",
   "execution_count": 18,
   "id": "7f1eccbe",
   "metadata": {},
   "outputs": [],
   "source": [
    "most_common_model = company_model_counts.loc[company_model_counts.groupby('Company')['Model_Count'].idxmax()]"
   ]
  },
  {
   "cell_type": "code",
   "execution_count": 19,
   "id": "e26af027",
   "metadata": {},
   "outputs": [],
   "source": [
    "company_counts_with_model = pd.merge(company_counts, most_common_model[['Company', 'Model', 'Model_Count']], on='Company')"
   ]
  },
  {
   "cell_type": "code",
   "execution_count": 20,
   "id": "a1c9f2f6",
   "metadata": {},
   "outputs": [
    {
     "name": "stdout",
     "output_type": "stream",
     "text": [
      "       Company  Count          Model  Model_Count\n",
      "0    Chevrolet   1819          Prizm          411\n",
      "1        Dodge   1671     Ram Pickup          383\n",
      "2         Ford   1614       Explorer          225\n",
      "3   Volkswagen   1333         Passat          391\n",
      "4   Mercedes-B   1285        S-Class          238\n",
      "5   Mitsubishi   1277       Diamante          418\n",
      "6     Chrysler   1120            LHS          330\n",
      "7   Oldsmobile   1111     Silhouette          411\n",
      "8       Toyota   1110         Tacoma          179\n",
      "9       Nissan    886     Pathfinder          267\n",
      "10     Mercury    874  Grand Marquis          261\n",
      "11       Lexus    802          LS400          354\n",
      "12     Pontiac    796        Sunfire          241\n",
      "13         BMW    790           528i          324\n",
      "14       Volvo    789            S40          282\n",
      "15       Honda    708         Accord          243\n",
      "16       Acura    689             RL          372\n",
      "17    Cadillac    652       Eldorado          232\n",
      "18    Plymouth    617           Neon          182\n",
      "19      Saturn    586             LW          170\n",
      "20     Lincoln    492    Continental          206\n",
      "21        Audi    468             A6          329\n",
      "22       Buick    439    Park Avenue          202\n",
      "23      Subaru    405       Forester          255\n",
      "24        Jeep    363       Wrangler          164\n",
      "25     Porsche    361  Carrera Coupe          176\n",
      "26     Hyundai    264         Sonata          164\n",
      "27        Saab    210          3-Sep          171\n",
      "28    Infiniti    195            I30          195\n",
      "29      Jaguar    180         S-Type          180\n"
     ]
    }
   ],
   "source": [
    "print(company_counts_with_model)"
   ]
  },
  {
   "cell_type": "code",
   "execution_count": null,
   "id": "019bc4b6",
   "metadata": {},
   "outputs": [],
   "source": []
  }
 ],
 "metadata": {
  "kernelspec": {
   "display_name": "Python 3 (ipykernel)",
   "language": "python",
   "name": "python3"
  },
  "language_info": {
   "codemirror_mode": {
    "name": "ipython",
    "version": 3
   },
   "file_extension": ".py",
   "mimetype": "text/x-python",
   "name": "python",
   "nbconvert_exporter": "python",
   "pygments_lexer": "ipython3",
   "version": "3.11.5"
  }
 },
 "nbformat": 4,
 "nbformat_minor": 5
}
